{
 "cells": [
  {
   "cell_type": "code",
   "execution_count": 8,
   "metadata": {},
   "outputs": [],
   "source": [
    "import cv2\n",
    "\n",
    "cap = cv2.VideoCapture(0)\n",
    "\n",
    "clicked = False\n",
    "pt = (0,0)\n",
    "\n",
    "def draw_circle(event,x,y,flags,param):\n",
    "    \n",
    "    global clicked,pt\n",
    "    \n",
    "    if event == cv2.EVENT_LBUTTONDOWN:\n",
    "        \n",
    "        if clicked == True:\n",
    "            pt = (x,y)\n",
    "        if clicked == False:\n",
    "            pt = (x,y)\n",
    "            clicked = True\n",
    "            \n",
    "cv2.namedWindow(winname=\"frame\")\n",
    "\n",
    "cv2.setMouseCallback(\"frame\",draw_circle)\n",
    "\n",
    "while True:\n",
    "    \n",
    "    ret,frame = cap.read()\n",
    "    \n",
    "    if clicked == True:\n",
    "        cv2.circle(frame,pt,50,(255,0,0),3)\n",
    "        \n",
    "    cv2.imshow(\"frame\",frame)\n",
    "    \n",
    "    if cv2.waitKey(1) & 0xFF == 27:\n",
    "        break\n",
    "        \n",
    "cap.release()\n",
    "cv2.destroyAllWindows()            "
   ]
  }
 ],
 "metadata": {
  "kernelspec": {
   "display_name": "Python 3",
   "language": "python",
   "name": "python3"
  },
  "language_info": {
   "codemirror_mode": {
    "name": "ipython",
    "version": 3
   },
   "file_extension": ".py",
   "mimetype": "text/x-python",
   "name": "python",
   "nbconvert_exporter": "python",
   "pygments_lexer": "ipython3",
   "version": "3.6.6"
  }
 },
 "nbformat": 4,
 "nbformat_minor": 2
}
