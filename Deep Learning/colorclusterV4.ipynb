{
 "cells": [
  {
   "cell_type": "code",
   "execution_count": 26,
   "metadata": {},
   "outputs": [],
   "source": [
    "from sklearn.cluster import KMeans\n",
    "import matplotlib.pyplot as plt\n",
    "import numpy as np\n",
    "import cv2\n",
    "import glob\n",
    "from os import walk"
   ]
  },
  {
   "cell_type": "code",
   "execution_count": 57,
   "metadata": {},
   "outputs": [],
   "source": [
    "def cluster_colors(path):\n",
    "    image = cv2.imread(path)\n",
    "    image = cv2.cvtColor(image, cv2.COLOR_BGR2RGB)\n",
    "\n",
    "    white_t = False\n",
    "    pointw = np.array(image[300,200,0:3])\n",
    "    if (pointw[0]<245 and pointw[0]>225) and (pointw[1]<245 and pointw[1]>225)  and (pointw[2]<245 and pointw[2]>225):\n",
    "        white_fg = True\n",
    "\n",
    "    image = image.reshape((image.shape[0] * image.shape[1], 3))\n",
    "\n",
    "    clt = KMeans(n_clusters = 3)\n",
    "    clt.fit(image)\n",
    "\n",
    "    ### HISTOGRAM\n",
    "\n",
    "    numLabels = np.arange(0, len(np.unique(clt.labels_)) + 1)\n",
    "    (hist, _) = np.histogram(clt.labels_, bins = numLabels)\n",
    "    hist = hist.astype(\"float\")\n",
    "\n",
    "    ### PLOTTING\n",
    "\n",
    "    centroids = clt.cluster_centers_\n",
    "\n",
    "    index = 0\n",
    "    if white_t == False:\n",
    "        for i in centroids:\n",
    "            if (i[0]<237 or i[0]>225) and (i[1]<237 or i[1]>225)  and (i[2]<237 or i[2]>225):\n",
    "                break\n",
    "        index += 1\n",
    "        centroids = np.delete(centroids,index,0)\n",
    "        hist = np.delete(hist,index,0)\n",
    "                \n",
    "\n",
    "    hist /= hist.sum()\n",
    "\n",
    "    bar = np.zeros((50, 300, 3), dtype = \"uint8\")\n",
    "    startX = 0\n",
    "    for (percent, color) in zip(hist, centroids):\n",
    "            # plot the relative percentage of each cluster\n",
    "            endX = startX + (percent * 300)\n",
    "            cv2.rectangle(bar, (int(startX), 0), (int(endX), 50),color.astype(\"uint8\").tolist(), -1)\n",
    "            startX = endX\n",
    "    return (bar,centroids)"
   ]
  },
  {
   "cell_type": "code",
   "execution_count": 114,
   "metadata": {},
   "outputs": [],
   "source": [
    "path_list = []\n",
    "for (dirpath, dirnames, filenames) in walk(\"C:/Users/emrem/Desktop/images_part/train/tshirt/\"):\n",
    "    path_list.extend(filenames)\n",
    "    break\n",
    "a = 30\n",
    "scalas = np.zeros(shape=(a,50,300,3),dtype=np.uint8)\n",
    "centroids_list = np.zeros(shape=(a,3,3),dtype=np.uint8)\n",
    "for i in range(0,a,1):\n",
    "    path = dirpath + path_list[i]\n",
    "    bar1,centroids1 = cluster_colors(path)\n",
    "    scalas[i] = bar1\n",
    "    centroids_list[i] = centroids1"
   ]
  },
  {
   "cell_type": "code",
   "execution_count": 115,
   "metadata": {},
   "outputs": [],
   "source": [
    "scalas = scalas.reshape(scalas.shape[0]*scalas.shape[1],300,3)"
   ]
  },
  {
   "cell_type": "code",
   "execution_count": 102,
   "metadata": {},
   "outputs": [
    {
     "data": {
      "text/plain": [
       "<matplotlib.image.AxesImage at 0x20ea9e41b00>"
      ]
     },
     "execution_count": 102,
     "metadata": {},
     "output_type": "execute_result"
    },
    {
     "data": {
      "image/png": "[encoded data removed]",
      "text/plain": [
       "<Figure size 432x288 with 1 Axes>"
      ]
     },
     "metadata": {
      "needs_background": "light"
     },
     "output_type": "display_data"
    }
   ],
   "source": [
    "plt.imshow(scalas)"
   ]
  },
  {
   "cell_type": "code",
   "execution_count": 116,
   "metadata": {},
   "outputs": [],
   "source": [
    "centroids_list = centroids_list.reshape(centroids_list.shape[0]*centroids_list.shape[1],3)"
   ]
  },
  {
   "cell_type": "code",
   "execution_count": 117,
   "metadata": {},
   "outputs": [
    {
     "data": {
      "text/plain": [
       "KMeans(algorithm='auto', copy_x=True, init='k-means++', max_iter=300,\n",
       "    n_clusters=10, n_init=10, n_jobs=1, precompute_distances='auto',\n",
       "    random_state=None, tol=0.0001, verbose=0)"
      ]
     },
     "execution_count": 117,
     "metadata": {},
     "output_type": "execute_result"
    }
   ],
   "source": [
    "clt2 = KMeans(n_clusters = 10)\n",
    "clt2.fit(centroids_list)"
   ]
  },
  {
   "cell_type": "code",
   "execution_count": 118,
   "metadata": {},
   "outputs": [],
   "source": [
    "centroids2 = clt2.cluster_centers_"
   ]
  },
  {
   "cell_type": "code",
   "execution_count": 119,
   "metadata": {},
   "outputs": [],
   "source": [
    "numLabels = np.arange(0, len(np.unique(clt2.labels_)) + 1)\n",
    "(hist, _) = np.histogram(clt2.labels_, bins = numLabels)\n",
    "hist = hist.astype(\"float\")\n",
    "hist /= hist.sum()"
   ]
  },
  {
   "cell_type": "code",
   "execution_count": 120,
   "metadata": {},
   "outputs": [
    {
     "data": {
      "text/plain": [
       "([<matplotlib.patches.Wedge at 0x20eaa9c5320>,\n",
       "  <matplotlib.patches.Wedge at 0x20eaa9c5828>,\n",
       "  <matplotlib.patches.Wedge at 0x20eaa9c5cf8>,\n",
       "  <matplotlib.patches.Wedge at 0x20eaa9d4208>,\n",
       "  <matplotlib.patches.Wedge at 0x20eaa9d46d8>,\n",
       "  <matplotlib.patches.Wedge at 0x20eaa9d4ba8>,\n",
       "  <matplotlib.patches.Wedge at 0x20eaaa270b8>,\n",
       "  <matplotlib.patches.Wedge at 0x20eaaa27588>,\n",
       "  <matplotlib.patches.Wedge at 0x20eaaa27a58>,\n",
       "  <matplotlib.patches.Wedge at 0x20eaaa27f28>],\n",
       " [Text(1.0199,0.412067,''),\n",
       "  Text(0.646564,0.889919,''),\n",
       "  Text(-0.677227,0.866812,''),\n",
       "  Text(-0.988674,-0.482208,''),\n",
       "  Text(-0.516419,-0.971242,''),\n",
       "  Text(0.0767317,-1.09732,''),\n",
       "  Text(0.516418,-0.971243,''),\n",
       "  Text(0.952628,-0.55,''),\n",
       "  Text(1.08329,-0.191014,''),\n",
       "  Text(1.09732,-0.0767327,'')])"
      ]
     },
     "execution_count": 120,
     "metadata": {},
     "output_type": "execute_result"
    },
    {
     "data": {
      "image/png": "[encoded data removed]",
      "text/plain": [
       "<Figure size 432x288 with 1 Axes>"
      ]
     },
     "metadata": {},
     "output_type": "display_data"
    }
   ],
   "source": [
    "plt.pie(hist,colors=centroids2/255)"
   ]
  },
  {
   "cell_type": "code",
   "execution_count": null,
   "metadata": {},
   "outputs": [],
   "source": []
  }
 ],
 "metadata": {
  "kernelspec": {
   "display_name": "Python 3",
   "language": "python",
   "name": "python3"
  },
  "language_info": {
   "codemirror_mode": {
    "name": "ipython",
    "version": 3
   },
   "file_extension": ".py",
   "mimetype": "text/x-python",
   "name": "python",
   "nbconvert_exporter": "python",
   "pygments_lexer": "ipython3",
   "version": "3.6.6"
  }
 },
 "nbformat": 4,
 "nbformat_minor": 2
}
