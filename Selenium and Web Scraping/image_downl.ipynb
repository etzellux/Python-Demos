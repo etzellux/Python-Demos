{
 "cells": [
  {
   "cell_type": "code",
   "execution_count": 7,
   "metadata": {},
   "outputs": [
    {
     "name": "stderr",
     "output_type": "stream",
     "text": [
      "C:\\Users\\emrem\\anaconda3\\envs\\python-cvcourse\\lib\\site-packages\\ipykernel_launcher.py:9: DeprecationWarning: use options instead of chrome_options\n",
      "  if __name__ == '__main__':\n"
     ]
    }
   ],
   "source": [
    "from selenium import webdriver\n",
    "import time\n",
    "import requests\n",
    "\n",
    "options = webdriver.ChromeOptions()\n",
    "options.add_argument(\"--start-maximized\")\n",
    "prefs = {\"profile.default_content_setting_values.notifications\" : 2}\n",
    "options.add_experimental_option(\"prefs\",prefs)\n",
    "browser = webdriver.Chrome(chrome_options=options)\n",
    "browser.get(\"https://www2.hm.com/tr_tr/erkek/urune-gore-satin-al/pantolon.html?product-type=men_trousers&sort=stock&image-size=small&image=stillLife&offset=0&page-size=253\")\n",
    "time.sleep(5)\n",
    "\n",
    "#browser.execute_script(\"window.scrollTo(0, 530);\")\n",
    "#browser.execute_script(\"window.scrollTo(0, 1208);\")\n",
    "\n",
    "\n",
    "part1 = '//*[@id=\"main-content\"]/div[2]/div/div/div[3]/ul/li['\n",
    "part2 = ']/article/div[1]/a/img'\n",
    "a = 1\n",
    "for i in range(1,253,4):\n",
    "    element_path = part1 + str(i) + part2\n",
    "    element = browser.find_element_by_xpath(element_path)\n",
    "    browser.execute_script(\"return arguments[0].scrollIntoView();\", element)\n",
    "    time.sleep(2)\n",
    "    image_path = 'C:/Users/emrem/Desktop/images/pantolon/' + str(a) + '.jpg'\n",
    "    browser.save_screenshot(image_path)\n",
    "    time.sleep(1)\n",
    "    a += 1\n",
    "   "
   ]
  },
  {
   "cell_type": "code",
   "execution_count": null,
   "metadata": {},
   "outputs": [],
   "source": []
  }
 ],
 "metadata": {
  "kernelspec": {
   "display_name": "Python 3",
   "language": "python",
   "name": "python3"
  },
  "language_info": {
   "codemirror_mode": {
    "name": "ipython",
    "version": 3
   },
   "file_extension": ".py",
   "mimetype": "text/x-python",
   "name": "python",
   "nbconvert_exporter": "python",
   "pygments_lexer": "ipython3",
   "version": "3.8.3"
  }
 },
 "nbformat": 4,
 "nbformat_minor": 4
}
